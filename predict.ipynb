{
 "cells": [
  {
   "cell_type": "code",
   "execution_count": 16,
   "id": "ba26abaf",
   "metadata": {},
   "outputs": [],
   "source": [
    "import pickle\n",
    "from flask import Flask\n",
    "from flask import request\n",
    "from flask import jsonify\n",
    "import numpy as np"
   ]
  },
  {
   "cell_type": "code",
   "execution_count": 3,
   "id": "25fc3db4",
   "metadata": {},
   "outputs": [],
   "source": [
    "import tensorflow as tf\n",
    "from tensorflow import keras\n",
    "\n",
    "from tensorflow.keras.preprocessing.image import ImageDataGenerator\n",
    "from tensorflow.keras.preprocessing.image import load_img\n",
    "from tensorflow.keras.applications.xception import preprocess_input"
   ]
  },
  {
   "cell_type": "code",
   "execution_count": 4,
   "id": "a2a45549",
   "metadata": {},
   "outputs": [
    {
     "name": "stdout",
     "output_type": "stream",
     "text": [
      "Found 200 images belonging to 10 classes.\n"
     ]
    }
   ],
   "source": [
    "test_gen = ImageDataGenerator(preprocessing_function=preprocess_input)\n",
    "\n",
    "test_ds = test_gen.flow_from_directory(\n",
    "    '/Users/kadkoy/Desktop/ml-zoomcamp-capstone-project-2022/dataset/fast-food-classification-v2-small/Test',\n",
    "    target_size=(299, 299),\n",
    "    batch_size=32,\n",
    "    shuffle=False\n",
    ")"
   ]
  },
  {
   "cell_type": "code",
   "execution_count": 5,
   "id": "2a846d86",
   "metadata": {},
   "outputs": [
    {
     "name": "stdout",
     "output_type": "stream",
     "text": [
      "Metal device set to: Apple M1 Pro\n"
     ]
    },
    {
     "name": "stderr",
     "output_type": "stream",
     "text": [
      "2022-12-22 17:30:01.858804: I tensorflow/core/common_runtime/pluggable_device/pluggable_device_factory.cc:305] Could not identify NUMA node of platform GPU ID 0, defaulting to 0. Your kernel may not have been built with NUMA support.\n",
      "2022-12-22 17:30:01.858988: I tensorflow/core/common_runtime/pluggable_device/pluggable_device_factory.cc:271] Created TensorFlow device (/job:localhost/replica:0/task:0/device:GPU:0 with 0 MB memory) -> physical PluggableDevice (device: 0, name: METAL, pci bus id: <undefined>)\n"
     ]
    }
   ],
   "source": [
    "#for load the model we use Keras\n",
    "model = keras.models.load_model('/Users/kadkoy/Desktop/ml-zoomcamp-capstone-project-2022/xception_v4_1_01_0.676.h5')"
   ]
  },
  {
   "cell_type": "code",
   "execution_count": 6,
   "id": "f292ead3",
   "metadata": {},
   "outputs": [
    {
     "name": "stderr",
     "output_type": "stream",
     "text": [
      "2022-12-22 17:30:20.859097: W tensorflow/core/platform/profile_utils/cpu_utils.cc:128] Failed to get CPU frequency: 0 Hz\n",
      "2022-12-22 17:30:21.298120: I tensorflow/core/grappler/optimizers/custom_graph_optimizer_registry.cc:113] Plugin optimizer for device_type GPU is enabled.\n"
     ]
    },
    {
     "name": "stdout",
     "output_type": "stream",
     "text": [
      "7/7 [==============================] - 5s 526ms/step - loss: 1.4848 - accuracy: 0.7050\n"
     ]
    },
    {
     "data": {
      "text/plain": [
       "[1.4847872257232666, 0.7049999833106995]"
      ]
     },
     "execution_count": 6,
     "metadata": {},
     "output_type": "execute_result"
    }
   ],
   "source": [
    "model.evaluate(test_ds)"
   ]
  },
  {
   "cell_type": "code",
   "execution_count": 7,
   "id": "3f8cd262",
   "metadata": {},
   "outputs": [],
   "source": [
    "#Path for single image for test\n",
    "path = '/Users/kadkoy/Desktop/ml-zoomcamp-capstone-project-2022/dataset/fast-food-classification-v2-small/Test/Hot Dog/Hot Dog-Test (16).jpeg'"
   ]
  },
  {
   "cell_type": "code",
   "execution_count": 8,
   "id": "f308119b",
   "metadata": {},
   "outputs": [],
   "source": [
    "#Preprocessing image for test\n",
    "img = load_img(path, target_size=(299, 299))"
   ]
  },
  {
   "cell_type": "code",
   "execution_count": 10,
   "id": "b8166af4",
   "metadata": {},
   "outputs": [
    {
     "data": {
      "text/plain": [
       "(1, 299, 299, 3)"
      ]
     },
     "execution_count": 10,
     "metadata": {},
     "output_type": "execute_result"
    }
   ],
   "source": [
    "x = np.array(img)\n",
    "X = np.array([x])\n",
    "X.shape"
   ]
  },
  {
   "cell_type": "code",
   "execution_count": 11,
   "id": "5cb41b0d",
   "metadata": {},
   "outputs": [],
   "source": [
    "X = preprocess_input(X)"
   ]
  },
  {
   "cell_type": "code",
   "execution_count": 12,
   "id": "5c53422f",
   "metadata": {},
   "outputs": [
    {
     "name": "stderr",
     "output_type": "stream",
     "text": [
      "2022-12-22 17:32:52.012227: I tensorflow/core/grappler/optimizers/custom_graph_optimizer_registry.cc:113] Plugin optimizer for device_type GPU is enabled.\n"
     ]
    },
    {
     "name": "stdout",
     "output_type": "stream",
     "text": [
      "1/1 [==============================] - 2s 2s/step\n"
     ]
    }
   ],
   "source": [
    "pred = model.predict(X)"
   ]
  },
  {
   "cell_type": "code",
   "execution_count": null,
   "id": "3facf4ec",
   "metadata": {},
   "outputs": [],
   "source": [
    "{'Baked Potato': 0,\n",
    " 'Burger': 1,\n",
    " 'Crispy Chicken': 2,\n",
    " 'Donut': 3,\n",
    " 'Fries': 4,\n",
    " 'Hot Dog': 5,\n",
    " 'Pizza': 6,\n",
    " 'Sandwich': 7,\n",
    " 'Taco': 8,\n",
    " 'Taquito': 9}"
   ]
  },
  {
   "cell_type": "code",
   "execution_count": 13,
   "id": "1fedb644",
   "metadata": {},
   "outputs": [],
   "source": [
    "classes = [\n",
    "    'Baked Potato',\n",
    " 'Burger',\n",
    " 'Crispy Chicken',\n",
    " 'Donut',\n",
    " 'Fries',\n",
    " 'Hot Dog',\n",
    " 'Pizza',\n",
    " 'Sandwich',\n",
    " 'Taco',\n",
    " 'Taquito'\n",
    "]"
   ]
  },
  {
   "cell_type": "code",
   "execution_count": 14,
   "id": "1b861697",
   "metadata": {
    "scrolled": true
   },
   "outputs": [
    {
     "data": {
      "text/plain": [
       "{'Baked Potato': -0.7482425,\n",
       " 'Burger': -0.0040607164,\n",
       " 'Crispy Chicken': -0.69277185,\n",
       " 'Donut': -1.2768617,\n",
       " 'Fries': -0.28596872,\n",
       " 'Hot Dog': 1.6621469,\n",
       " 'Pizza': -0.5406895,\n",
       " 'Sandwich': 0.7217949,\n",
       " 'Taco': 0.17578924,\n",
       " 'Taquito': -0.26740703}"
      ]
     },
     "execution_count": 14,
     "metadata": {},
     "output_type": "execute_result"
    }
   ],
   "source": [
    "dict(zip(classes, pred[0]))"
   ]
  },
  {
   "cell_type": "code",
   "execution_count": 17,
   "id": "ce9a9a94",
   "metadata": {},
   "outputs": [],
   "source": [
    "######################################################################################################"
   ]
  },
  {
   "cell_type": "code",
   "execution_count": 19,
   "id": "feab6cfe",
   "metadata": {},
   "outputs": [],
   "source": [
    "\n",
    "import pickle\n",
    "from flask import Flask\n",
    "from flask import request\n",
    "from flask import jsonify"
   ]
  },
  {
   "cell_type": "code",
   "execution_count": 18,
   "id": "7b49a568",
   "metadata": {},
   "outputs": [],
   "source": [
    "#for load the model we use Keras\n",
    "model = keras.models.load_model('/Users/kadkoy/Desktop/ml-zoomcamp-capstone-project-2022/xception_v4_1_01_0.676.h5')"
   ]
  },
  {
   "cell_type": "code",
   "execution_count": null,
   "id": "6dbfff69",
   "metadata": {},
   "outputs": [],
   "source": [
    "app = Flask(\"food_classifier\")\n",
    "\n",
    "@app.route(\"/predict\", methods=[\"POST\"])\n",
    "def predict():\n",
    "    food = request.get_json()\n",
    "    \n",
    "    X_food = \n",
    "   \n",
    "    X_food = dv.transform([food])\n",
    "    y_pred = model.predict(X_food)\n",
    "\n",
    "    y_prob = model.evaluate(X_food)\n",
    "\n",
    "    \n",
    "        \n",
    "\n",
    "    result = {\n",
    "        \n",
    "        \n",
    "        \"prediction\": float(y_prob)\n",
    "            \n",
    "    }\n",
    "    return jsonify(result)\n",
    "\n",
    "\n",
    "if __name__ == \"__main__\":\n",
    "    app.run(debug=True, host=\"0.0.0.0\", port=9696)"
   ]
  }
 ],
 "metadata": {
  "kernelspec": {
   "display_name": "Python 3.9 (tensorflow)",
   "language": "python",
   "name": "tensorflow"
  },
  "language_info": {
   "codemirror_mode": {
    "name": "ipython",
    "version": 3
   },
   "file_extension": ".py",
   "mimetype": "text/x-python",
   "name": "python",
   "nbconvert_exporter": "python",
   "pygments_lexer": "ipython3",
   "version": "3.9.12"
  }
 },
 "nbformat": 4,
 "nbformat_minor": 5
}
